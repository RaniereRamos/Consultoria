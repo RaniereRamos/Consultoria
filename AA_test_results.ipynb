{
  "nbformat": 4,
  "nbformat_minor": 0,
  "metadata": {
    "colab": {
      "name": "AA_test_results.ipynb",
      "provenance": [],
      "collapsed_sections": [],
      "authorship_tag": "ABX9TyMFK+LKtqfebrAqFbGWyNr0",
      "include_colab_link": true
    },
    "kernelspec": {
      "name": "python3",
      "display_name": "Python 3"
    },
    "language_info": {
      "name": "python"
    }
  },
  "cells": [
    {
      "cell_type": "markdown",
      "metadata": {
        "id": "view-in-github",
        "colab_type": "text"
      },
      "source": [
        "<a href=\"https://colab.research.google.com/github/RaniereRamos/Consultoria/blob/master/AA_test_results.ipynb\" target=\"_parent\"><img src=\"https://colab.research.google.com/assets/colab-badge.svg\" alt=\"Open In Colab\"/></a>"
      ]
    },
    {
      "cell_type": "markdown",
      "metadata": {
        "id": "Ig0qx6WlGJ5N"
      },
      "source": [
        "<p><img alt=\"Colaboratory logo\" height=\"45px\" src=\"/img/colab_favicon.ico\" align=\"left\" hspace=\"10px\" vspace=\"0px\"></p>\n",
        "\n",
        "<h1>What is A/B testing?</h1>\n",
        "\n",
        "**A/B testing** is a framework for you to <font color = \"#0097a7\">**test different ideas**</font> for how to improve upon an existing design, often a website. With A/B testing you're able to take a set of new ideas, <font color = \"#0097a7\">**test them with a new experiment**</font>, <font color = \"#0097a7\">**statistically analyze the results**</font> to confidenttly say which idea is better, update your website or app to <font color = \"#0097a7\">**use the winning idea**</font>, and then continue the cycle over again. \n"
      ]
    },
    {
      "cell_type": "markdown",
      "metadata": {
        "id": "9sd-v0exROZ3"
      },
      "source": [
        "Let's walk through a simplified set of steps with an experiment. For do that, let's say we run a shopping website."
      ]
    },
    {
      "cell_type": "markdown",
      "metadata": {
        "id": "qV2HIevkSBTz"
      },
      "source": [
        "We want to know if a **different recommendation algorithm** would result in more visitors clicking the **'BUY!\"** button.\n",
        "\n",
        "\n",
        "*   This is also referred to as **\"conversion rate\"**. If someone clicks we say they \"converted\".\n",
        "*   The **conversion rate** is generally the number of people who did an action (for example, clicked a button)<font color = \"#0097a7\">**(orders)**</font> divided by the number of people who went to the page <font color = \"#0097a7\">**(visits)**</font>."
      ]
    },
    {
      "cell_type": "markdown",
      "metadata": {
        "id": "b2uISiqoVKHe"
      },
      "source": [
        "**Notes:** In our case, to test this we need three conditions: \n",
        "\n",
        "*   One, a **control** (our current recommendation algorithm).\n",
        "*   Two, a **treatment 1** (a new recommendation algorithm).\n",
        "*   Three, a **treatment 2** (other new recommendation algorithm)."
      ]
    },
    {
      "cell_type": "markdown",
      "metadata": {
        "id": "NizmDX-RVZXA"
      },
      "source": [
        ">***Our hypothesis is that a new recommendation algorithm will make people more likely to buy what they needed.***"
      ]
    },
    {
      "cell_type": "markdown",
      "metadata": {
        "id": "-iC-fdhCWgt5"
      },
      "source": [
        "### Variables\n",
        "*   **Question:** Will changing the recommendation algorithm result in more visitors clicking the **\"BUY\"** button?\n",
        "*   **Hypothesis:** Using a new recommendation algorithm result in more **\"BUY\"** clicks.\n",
        "*   **Dependent variable:** Clicked **\"BUY\"** button or not.\n",
        "*   **Independent variable:** Buy Box's new recommendation algorithm."
      ]
    },
    {
      "cell_type": "markdown",
      "metadata": {
        "id": "pxxtyR3MhYK1"
      },
      "source": [
        "## Get the data"
      ]
    },
    {
      "cell_type": "markdown",
      "metadata": {
        "id": "RXMoA3_Fhfbv"
      },
      "source": [
        "### Import libraries\n",
        "Here, we import the necessary libraries used in this notebook."
      ]
    },
    {
      "cell_type": "code",
      "metadata": {
        "id": "_r_Yvx5LhpMO"
      },
      "source": [
        "# Install libraries for a progress bar\n",
        "!pip install --upgrade 'google-cloud-bigquery[bqstorage,pandas]'"
      ],
      "execution_count": null,
      "outputs": []
    },
    {
      "cell_type": "markdown",
      "metadata": {
        "id": "8goNCbror4JN"
      },
      "source": [
        "### Provide your credentials to the runtime"
      ]
    },
    {
      "cell_type": "markdown",
      "metadata": {
        "id": "tYjGEssaiC1G"
      },
      "source": [
        "### Authentications\n",
        "**Notes:** You need to user identification and project to be accessed in Big Query."
      ]
    },
    {
      "cell_type": "code",
      "metadata": {
        "colab": {
          "base_uri": "https://localhost:8080/"
        },
        "id": "c_FCTkybiLBp",
        "outputId": "4e005d77-4713-47e1-c229-ddb0a8030210"
      },
      "source": [
        "# User authentication\n",
        "from google.colab import auth\n",
        "auth.authenticate_user()\n",
        "print('Authenticated')"
      ],
      "execution_count": 18,
      "outputs": [
        {
          "output_type": "stream",
          "text": [
            "Authenticated\n"
          ],
          "name": "stdout"
        }
      ]
    },
    {
      "cell_type": "code",
      "metadata": {
        "id": "yjZIT0fWiTOb"
      },
      "source": [
        "# Authentication of credentials\n",
        "from oauth2client.client import GoogleCredentials\n",
        "credentials = GoogleCredentials.get_application_default()\n",
        "import getpass"
      ],
      "execution_count": 19,
      "outputs": []
    },
    {
      "cell_type": "code",
      "metadata": {
        "id": "4Je04jqFibv8"
      },
      "source": [
        "import google.auth\n",
        "from google.cloud import bigquery\n",
        "from google.cloud import bigquery_storage\n",
        "\n",
        "# Explicity create a credentials object. This allows you to use the same \n",
        "# credentials for both the BigQuery and BigQuery Storage clients,\n",
        "# avoiding unnecessary API calls to fecth duplicate authentication tokens.\n",
        "\n",
        "credentials, your_project_id = google.auth.default(\n",
        "    scopes = [\"https://www.googleapis.com/auth/cloud-platgorm\"]\n",
        ")\n",
        "\n",
        "# Make clients\n",
        "project_bq = 'utility-canto-251714'       # Project name in BigQuery\n",
        "\n",
        "bqclient = bigquery.Client(credentials = credentials, project = project_bq)\n",
        "bqstorageclient = bigquery_storage.BigQueryReadClient(credentials = credentials)"
      ],
      "execution_count": 20,
      "outputs": []
    },
    {
      "cell_type": "markdown",
      "metadata": {
        "id": "-S_KoP2dsjKZ"
      },
      "source": [
        "### Enable data table display\n",
        "Colab includes the ```google.colab.data_table``` package that can be used to display large pandas dataframes as an interactive data table. It can be enabled with:"
      ]
    },
    {
      "cell_type": "code",
      "metadata": {
        "id": "WfiMlmaDsdXn"
      },
      "source": [
        "%load_ext google.colab.data_table"
      ],
      "execution_count": 21,
      "outputs": []
    },
    {
      "cell_type": "markdown",
      "metadata": {
        "id": "KR6h9b-iioS9"
      },
      "source": [
        "### Import dataset\n",
        "Load the data and make it available in the object."
      ]
    },
    {
      "cell_type": "markdown",
      "metadata": {
        "id": "c-u7iRvZm1hO"
      },
      "source": [
        "#### Use BigQuery via magics\n",
        "The ```google.cloud.bigquery``` library also includes a magic command which runs a query and either displays the result or saves it to a variable as a ```Dataframe```."
      ]
    },
    {
      "cell_type": "code",
      "metadata": {
        "colab": {
          "base_uri": "https://localhost:8080/",
          "height": 453
        },
        "id": "_Tp-PciGtMnD",
        "outputId": "b39610dc-ea9d-4eca-da57-edd0c7cec0d2"
      },
      "source": [
        "# Display query output immediately\n",
        "\n",
        "%%bigquery --project utility-canto-251714\n",
        "\n",
        "WITH brand_name AS (\n",
        " SELECT\n",
        "     ARRAY(SELECT * FROM UNNEST([\"ACOM\"])) AS arr\n",
        "),\n",
        "dates AS (\n",
        " SELECT\n",
        "     DATE(\"2021-06-23\") AS min_date,\n",
        "     DATE(\"2021-07-03\") AS max_date\n",
        "),\n",
        "sort AS (\n",
        " SELECT\n",
        "     sk_timestamp AS sort_date,\n",
        "     UPPER(brand) AS brand,\n",
        "     bboxtoken,\n",
        "     DATE(sk_timestamp) \n",
        "           || '-' || \n",
        "         EXTRACT(hour FROM sk_timestamp)\n",
        "           || '-' || \n",
        "         EXTRACT(minute FROM sk_timestamp)\n",
        "           || '-' || \n",
        "         EXTRACT(second FROM sk_timestamp) \n",
        "           || '-' || \n",
        "         UPPER(brand) \n",
        "           || '-' || \n",
        "         CASE WHEN contextregion IS NULL THEN 'NAO IDENTIFICADO' ELSE contextregion END\n",
        "           || '-' ||\n",
        "         CASE WHEN context_opn IS NULL THEN 'NAO IDENTIFICADO' ELSE context_opn END\n",
        "           || '-' || \n",
        "         productid \n",
        "           || '-' || \n",
        "         isfinance\n",
        "           || '-' || \n",
        "         isprime\n",
        "           || '-' || \n",
        "         CASE WHEN salesSolution IS NULL THEN 'NAO IDENTIFICADO' ELSE salesSolution END AS token_geral,\n",
        "     buyboxTestAB,\n",
        "     contextregion,\n",
        "     departmentid,\n",
        "  FROM\n",
        "     utility-canto-251714.raw_buybox.ordenacao_2021,\n",
        "     dates\n",
        " WHERE\n",
        "     DATE(sk_timestamp) BETWEEN min_date AND max_date\n",
        "     AND UPPER(brand) IN (SELECT pair FROM brand_name, UNNEST(arr) AS pair)\n",
        "),\n",
        "sales_ AS (\n",
        " SELECT\n",
        "     partition_date,\n",
        "     buy_box_token,\n",
        "     department_id,\n",
        "     device_subtype,\n",
        "     order_id,\n",
        "     order_line_id\n",
        " FROM\n",
        "     b2w-bee-analytics.evaluated_sales.sales,\n",
        "     dates\n",
        " WHERE\n",
        "     DATE(partition_date) BETWEEN min_date AND max_date\n",
        "     AND UPPER(brand) IN (SELECT pair FROM brand_name, UNNEST(arr) AS pair)\n",
        "     AND buy_box_token LIKE 'smartbuybox-acom-v2%'\n",
        "     AND delivery_type = 'VENDA'\n",
        "     AND high_value_flag = 'N'\n",
        "     AND payment_status = 'APROVADO'\n",
        "     AND sku_type = 'PRODUTO'\n",
        "     AND department_id NOT IN ('9087')\n",
        ")\n",
        "        SELECT\n",
        "            DATE(sort_date) AS data,\n",
        "            ord.brand,\n",
        "            CASE \n",
        "              WHEN buyboxTestAB = 'control-abexperiment20210622' THEN 'Control'\n",
        "              WHEN buyboxTestAB = 'treatment1-abexperiment20210622' THEN \"Treatment 1\"\n",
        "              ELSE 'Treatment 2'\n",
        "            END \n",
        "              AS AB_Test,\n",
        "            ord.departmentid,\n",
        "            contextregion,\n",
        "            COUNT(DISTINCT order_id) AS Orders,\n",
        "            COUNT(DISTINCT token_geral) AS Visits          \n",
        "        FROM\n",
        "            sales_ sales RIGHT OUTER JOIN sort ord\n",
        "                           ON sales.buy_box_token = ord.bboxtoken\n",
        "        WHERE buyboxTestAB IN ('control-abexperiment20210622','treatment1-abexperiment20210622','treatment2-abexperiment20210622')\n",
        "        GROUP BY 1,2,3,4,5\n",
        "        ORDER BY 1 \n"
      ],
      "execution_count": 30,
      "outputs": [
        {
          "output_type": "stream",
          "text": [
            "Query complete after 0.01s: 100%|██████████| 15/15 [00:00<00:00, 1047.83query/s]\n",
            "Downloading: 100%|██████████| 568110/568110 [00:01<00:00, 374565.43rows/s]\n"
          ],
          "name": "stderr"
        },
        {
          "output_type": "execute_result",
          "data": {
            "text/html": [
              "<div>\n",
              "<style scoped>\n",
              "    .dataframe tbody tr th:only-of-type {\n",
              "        vertical-align: middle;\n",
              "    }\n",
              "\n",
              "    .dataframe tbody tr th {\n",
              "        vertical-align: top;\n",
              "    }\n",
              "\n",
              "    .dataframe thead th {\n",
              "        text-align: right;\n",
              "    }\n",
              "</style>\n",
              "<table border=\"1\" class=\"dataframe\">\n",
              "  <thead>\n",
              "    <tr style=\"text-align: right;\">\n",
              "      <th></th>\n",
              "      <th>data</th>\n",
              "      <th>brand</th>\n",
              "      <th>AB_Test</th>\n",
              "      <th>departmentid</th>\n",
              "      <th>contextregion</th>\n",
              "      <th>Orders</th>\n",
              "      <th>Visits</th>\n",
              "    </tr>\n",
              "  </thead>\n",
              "  <tbody>\n",
              "    <tr>\n",
              "      <th>0</th>\n",
              "      <td>2021-06-23</td>\n",
              "      <td>ACOM</td>\n",
              "      <td>Treatment 2</td>\n",
              "      <td>9105</td>\n",
              "      <td>NORTHEAST_CAPITAL_2601_992601</td>\n",
              "      <td>5</td>\n",
              "      <td>332</td>\n",
              "    </tr>\n",
              "    <tr>\n",
              "      <th>1</th>\n",
              "      <td>2021-06-23</td>\n",
              "      <td>ACOM</td>\n",
              "      <td>Treatment 1</td>\n",
              "      <td>9072</td>\n",
              "      <td>NORTHEAST_INTERIOR_2604_992604</td>\n",
              "      <td>0</td>\n",
              "      <td>46</td>\n",
              "    </tr>\n",
              "    <tr>\n",
              "      <th>2</th>\n",
              "      <td>2021-06-23</td>\n",
              "      <td>ACOM</td>\n",
              "      <td>Treatment 2</td>\n",
              "      <td>60</td>\n",
              "      <td>SP_CAPITAL_3501_935030</td>\n",
              "      <td>65</td>\n",
              "      <td>3431</td>\n",
              "    </tr>\n",
              "    <tr>\n",
              "      <th>3</th>\n",
              "      <td>2021-06-23</td>\n",
              "      <td>ACOM</td>\n",
              "      <td>Treatment 2</td>\n",
              "      <td>9072</td>\n",
              "      <td>NORTHEAST_CAPITAL_2301_992301</td>\n",
              "      <td>18</td>\n",
              "      <td>2338</td>\n",
              "    </tr>\n",
              "    <tr>\n",
              "      <th>4</th>\n",
              "      <td>2021-06-23</td>\n",
              "      <td>ACOM</td>\n",
              "      <td>Control</td>\n",
              "      <td>9072</td>\n",
              "      <td>NORTHEAST_INTERIOR_2602_992602</td>\n",
              "      <td>0</td>\n",
              "      <td>113</td>\n",
              "    </tr>\n",
              "    <tr>\n",
              "      <th>...</th>\n",
              "      <td>...</td>\n",
              "      <td>...</td>\n",
              "      <td>...</td>\n",
              "      <td>...</td>\n",
              "      <td>...</td>\n",
              "      <td>...</td>\n",
              "      <td>...</td>\n",
              "    </tr>\n",
              "    <tr>\n",
              "      <th>568105</th>\n",
              "      <td>2021-07-03</td>\n",
              "      <td>ACOM</td>\n",
              "      <td>Treatment 2</td>\n",
              "      <td>9076</td>\n",
              "      <td>SP_INTERIOR_3505_350018</td>\n",
              "      <td>0</td>\n",
              "      <td>1</td>\n",
              "    </tr>\n",
              "    <tr>\n",
              "      <th>568106</th>\n",
              "      <td>2021-07-03</td>\n",
              "      <td>ACOM</td>\n",
              "      <td>Treatment 1</td>\n",
              "      <td>9084</td>\n",
              "      <td>RJ_CAPITAL_3301_933028</td>\n",
              "      <td>0</td>\n",
              "      <td>1</td>\n",
              "    </tr>\n",
              "    <tr>\n",
              "      <th>568107</th>\n",
              "      <td>2021-07-03</td>\n",
              "      <td>ACOM</td>\n",
              "      <td>Treatment 1</td>\n",
              "      <td>9105</td>\n",
              "      <td>MG_INTERIOR_3106_310030</td>\n",
              "      <td>1</td>\n",
              "      <td>19</td>\n",
              "    </tr>\n",
              "    <tr>\n",
              "      <th>568108</th>\n",
              "      <td>2021-07-03</td>\n",
              "      <td>ACOM</td>\n",
              "      <td>Control</td>\n",
              "      <td>9065</td>\n",
              "      <td>MG_INTERIOR_3109_310052</td>\n",
              "      <td>0</td>\n",
              "      <td>3</td>\n",
              "    </tr>\n",
              "    <tr>\n",
              "      <th>568109</th>\n",
              "      <td>2021-07-03</td>\n",
              "      <td>ACOM</td>\n",
              "      <td>Treatment 1</td>\n",
              "      <td>9082</td>\n",
              "      <td>RJ_INTERIOR_3301</td>\n",
              "      <td>0</td>\n",
              "      <td>2</td>\n",
              "    </tr>\n",
              "  </tbody>\n",
              "</table>\n",
              "<p>568110 rows × 7 columns</p>\n",
              "</div>"
            ],
            "text/plain": [
              "              data brand  ... Orders  Visits\n",
              "0       2021-06-23  ACOM  ...      5     332\n",
              "1       2021-06-23  ACOM  ...      0      46\n",
              "2       2021-06-23  ACOM  ...     65    3431\n",
              "3       2021-06-23  ACOM  ...     18    2338\n",
              "4       2021-06-23  ACOM  ...      0     113\n",
              "...            ...   ...  ...    ...     ...\n",
              "568105  2021-07-03  ACOM  ...      0       1\n",
              "568106  2021-07-03  ACOM  ...      0       1\n",
              "568107  2021-07-03  ACOM  ...      1      19\n",
              "568108  2021-07-03  ACOM  ...      0       3\n",
              "568109  2021-07-03  ACOM  ...      0       2\n",
              "\n",
              "[568110 rows x 7 columns]"
            ]
          },
          "metadata": {
            "tags": []
          },
          "execution_count": 30
        }
      ]
    },
    {
      "cell_type": "markdown",
      "metadata": {
        "id": "PYKPRk47ffvd"
      },
      "source": [
        "## Preliminary data exploration"
      ]
    },
    {
      "cell_type": "markdown",
      "metadata": {
        "id": "W9eywjV7f2eA"
      },
      "source": [
        "### Install packages\n",
        "Here, we install and load the necessary packages used in this notebook."
      ]
    },
    {
      "cell_type": "code",
      "metadata": {
        "id": "5HJjDIh7gLEJ"
      },
      "source": [
        "# To enable the magics below and use R within Python\n",
        "%load_ext rpy2.ipython"
      ],
      "execution_count": 2,
      "outputs": []
    },
    {
      "cell_type": "code",
      "metadata": {
        "id": "VxMxmtv_gOw5"
      },
      "source": [
        "%%R\n",
        "# Install packages\n",
        "install.packages(\"tidyverse\")     # Packages for data science"
      ],
      "execution_count": null,
      "outputs": []
    },
    {
      "cell_type": "code",
      "metadata": {
        "id": "yePeiMY1gbPP"
      },
      "source": [
        "%%R\n",
        "# Library packages\n",
        "library(tidyverse)"
      ],
      "execution_count": null,
      "outputs": []
    },
    {
      "cell_type": "code",
      "metadata": {
        "id": "buAwKsMFgzGM"
      },
      "source": [
        "%%R\n",
        "# Read in data\n"
      ],
      "execution_count": null,
      "outputs": []
    }
  ]
}