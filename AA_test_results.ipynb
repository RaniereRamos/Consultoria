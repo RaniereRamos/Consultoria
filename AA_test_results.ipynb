{
  "nbformat": 4,
  "nbformat_minor": 0,
  "metadata": {
    "colab": {
      "name": "AA_test_results.ipynb",
      "provenance": [],
      "collapsed_sections": [],
      "include_colab_link": true
    },
    "kernelspec": {
      "name": "python3",
      "display_name": "Python 3"
    },
    "language_info": {
      "name": "python"
    }
  },
  "cells": [
    {
      "cell_type": "markdown",
      "metadata": {
        "id": "view-in-github",
        "colab_type": "text"
      },
      "source": [
        "<a href=\"https://colab.research.google.com/github/RaniereRamos/Consultoria/blob/master/AA_test_results.ipynb\" target=\"_parent\"><img src=\"https://colab.research.google.com/assets/colab-badge.svg\" alt=\"Open In Colab\"/></a>"
      ]
    },
    {
      "cell_type": "markdown",
      "metadata": {
        "id": "Ig0qx6WlGJ5N"
      },
      "source": [
        "<img alt=\"B2W logo\" height=\"50px\" src=\"https://ri.b2w.digital/img/2013/logo.png\" align=\"left\" hspace=\"15px\" vspace=\"0px\"> \n",
        "\n",
        "<h1><font color = \"#0097a7\"><strong>Analysis of A/B Test Results of the New Buy Box Model<strong></font></h1>"
      ]
    },
    {
      "cell_type": "markdown",
      "metadata": {
        "id": "ILvixFz-F4A_"
      },
      "source": [
        "# What is an A/B test?\n",
        "\n",
        "**A/B testing** is a framework for you to <font color = \"#0097a7\">**test different ideas**</font> for how to improve upon an existing design, often a website. With A/B testing you're able to take a set of new ideas, <font color = \"#0097a7\">**test them with a new experiment**</font>, <font color = \"#0097a7\">**statistically analyze the results**</font> to confidently say which idea is better, update your website or app to <font color = \"#0097a7\">**use the winning idea**</font>, and then continue the cycle over again. "
      ]
    },
    {
      "cell_type": "markdown",
      "metadata": {
        "id": "9sd-v0exROZ3"
      },
      "source": [
        "Let's walk through a simplified set of steps with an experiment. For do that, let's say we run a shopping website."
      ]
    },
    {
      "cell_type": "markdown",
      "metadata": {
        "id": "qV2HIevkSBTz"
      },
      "source": [
        "We want to know if a **different recommendation algorithm** would result in more visitors clicking the **'BUY\"** button.\n",
        "\n",
        "\n",
        "*   This is also referred to as **\"conversion rate\"**. If someone clicks we say they \"converted\".\n",
        "*   The **conversion rate** is generally the number of people who did an action (for example, clicked a button)<font color = \"#0097a7\">**(orders)**</font> divided by the number of people who went to the page <font color = \"#0097a7\">**(visits)**</font>."
      ]
    },
    {
      "cell_type": "markdown",
      "metadata": {
        "id": "b2uISiqoVKHe"
      },
      "source": [
        "**Notes:** In our case, to test this we need three conditions: \n",
        "\n",
        "*   One, a **control** (our current recommendation algorithm).\n",
        "*   Two, a **treatment 1** (a new recommendation algorithm).\n",
        "*   Three, a **treatment 2** (other new recommendation algorithm)."
      ]
    },
    {
      "cell_type": "markdown",
      "metadata": {
        "id": "NizmDX-RVZXA"
      },
      "source": [
        ">***Our hypothesis is that a new recommendation algorithm will make people more likely to buy what they needed.***"
      ]
    },
    {
      "cell_type": "markdown",
      "metadata": {
        "id": "-iC-fdhCWgt5"
      },
      "source": [
        "## Variables\n",
        "*   **Question:** Will changing the recommendation algorithm result in more visitors clicking the **\"BUY\"** button?\n",
        "*   **Hypothesis:** Using a new recommendation algorithm result in more **\"BUY\"** clicks.\n",
        "*   **Dependent variable:** Clicked **\"BUY\"** button or not.\n",
        "*   **Independent variable:** Buy Box's new recommendation algorithm."
      ]
    },
    {
      "cell_type": "markdown",
      "metadata": {
        "id": "pxxtyR3MhYK1"
      },
      "source": [
        "# Get the data"
      ]
    },
    {
      "cell_type": "markdown",
      "metadata": {
        "id": "yXcGlR3Ot4m0"
      },
      "source": [
        "### Import libraries\n",
        "Here, we import the necessary libraries used in this notebook."
      ]
    },
    {
      "cell_type": "code",
      "metadata": {
        "id": "korIlQalt9yf"
      },
      "source": [
        "# Install libraries for a progress bar\n",
        "!pip install --upgrade 'google-cloud-bigquery[bqstorage,pandas]'"
      ],
      "execution_count": null,
      "outputs": []
    },
    {
      "cell_type": "markdown",
      "metadata": {
        "id": "8goNCbror4JN"
      },
      "source": [
        "### Provide your credentials to the runtime"
      ]
    },
    {
      "cell_type": "markdown",
      "metadata": {
        "id": "tYjGEssaiC1G"
      },
      "source": [
        "#### Authentications\n",
        "**Notes:** You need to user identification and project to be accessed in Big Query."
      ]
    },
    {
      "cell_type": "code",
      "metadata": {
        "id": "c_FCTkybiLBp"
      },
      "source": [
        "# User authentication\n",
        "from google.colab import auth\n",
        "auth.authenticate_user()\n",
        "print('Authenticated')"
      ],
      "execution_count": null,
      "outputs": []
    },
    {
      "cell_type": "code",
      "metadata": {
        "id": "fvdWq-pT8lzp"
      },
      "source": [
        "from oauth2client.client import GoogleCredentials\n",
        "credentials = GoogleCredentials.get_application_default()\n",
        "import getpass"
      ],
      "execution_count": 2,
      "outputs": []
    },
    {
      "cell_type": "code",
      "metadata": {
        "id": "tHOZR4HL8m6k"
      },
      "source": [
        "import google.auth\n",
        "from google.cloud import bigquery\n",
        "from google.cloud import bigquery_storage\n",
        "\n",
        "# Explicitly create a credentials object. This allows you to use the same\n",
        "# credentials for both the BigQuery and BigQuery Storage clients, avoiding\n",
        "# unnecessary API calls to fetch duplicate authentication tokens.\n",
        "credentials, your_project_id = google.auth.default(\n",
        "    scopes=[\"https://www.googleapis.com/auth/cloud-platform\"]\n",
        ")\n",
        "\n",
        "# Make clients.\n",
        "projeto='utility-canto-251714' # project's name in Big Query\n",
        "\n",
        "bqclient = bigquery.Client(credentials=credentials, project=projeto,)\n",
        "bqstorageclient = bigquery_storage.BigQueryReadClient(credentials=credentials)"
      ],
      "execution_count": 3,
      "outputs": []
    },
    {
      "cell_type": "markdown",
      "metadata": {
        "id": "-S_KoP2dsjKZ"
      },
      "source": [
        "#### Enable data table display\n",
        "Colab includes the ```google.colab.data_table``` package that can be used to display large pandas dataframes as an interactive data table. It can be enabled with:"
      ]
    },
    {
      "cell_type": "code",
      "metadata": {
        "id": "WfiMlmaDsdXn"
      },
      "source": [
        "%load_ext google.colab.data_table"
      ],
      "execution_count": 4,
      "outputs": []
    },
    {
      "cell_type": "markdown",
      "metadata": {
        "id": "KR6h9b-iioS9"
      },
      "source": [
        "## Import dataset\n",
        "Load the data and make it available in the object."
      ]
    },
    {
      "cell_type": "markdown",
      "metadata": {
        "id": "c-u7iRvZm1hO"
      },
      "source": [
        "### Use BigQuery via magics\n",
        "**Notes:** The ```google.cloud.bigquery``` library also includes a magic command which runs a query and either displays the result or saves it to a variable as a ```Dataframe```."
      ]
    },
    {
      "cell_type": "code",
      "metadata": {
        "id": "_Tp-PciGtMnD"
      },
      "source": [
        "##%%bigquery --project utility-canto-251714 df (I didn't get save query's results using alias. So I used another method)\n",
        "\n",
        "query = f\"\"\"\n",
        "WITH brand_name AS (\n",
        " SELECT\n",
        "     ARRAY(SELECT * FROM UNNEST([\"ACOM\"])) AS arr\n",
        "),\n",
        "dates AS (\n",
        " SELECT\n",
        "     DATE(\"2021-06-23\") AS min_date,\n",
        "     DATE(\"2021-07-04\") AS max_date\n",
        "),\n",
        "sort AS (\n",
        " SELECT\n",
        "     sk_timestamp AS sort_date,\n",
        "     UPPER(brand) AS brand,\n",
        "     bboxtoken,\n",
        "     DATE(sk_timestamp) \n",
        "           || '-' || \n",
        "         EXTRACT(hour FROM sk_timestamp)\n",
        "           || '-' || \n",
        "         EXTRACT(minute FROM sk_timestamp)\n",
        "           || '-' || \n",
        "         EXTRACT(second FROM sk_timestamp) \n",
        "           || '-' || \n",
        "         UPPER(brand) \n",
        "           || '-' || \n",
        "         CASE WHEN contextregion IS NULL THEN 'NAO IDENTIFICADO' ELSE contextregion END\n",
        "           || '-' ||\n",
        "         CASE WHEN context_opn IS NULL THEN 'NAO IDENTIFICADO' ELSE context_opn END\n",
        "           || '-' || \n",
        "         productid \n",
        "           || '-' || \n",
        "         isfinance\n",
        "           || '-' || \n",
        "         isprime\n",
        "           || '-' || \n",
        "         CASE WHEN salesSolution IS NULL THEN 'NAO IDENTIFICADO' ELSE salesSolution END AS token_geral,\n",
        "     buyboxTestAB,\n",
        "     contextregion,\n",
        "     departmentid,\n",
        "  FROM\n",
        "     utility-canto-251714.raw_buybox.ordenacao_2021,\n",
        "     dates\n",
        " WHERE\n",
        "     DATE(sk_timestamp) BETWEEN min_date AND max_date\n",
        "     AND UPPER(brand) IN (SELECT pair FROM brand_name, UNNEST(arr) AS pair)\n",
        "),\n",
        "\n",
        "sales_ AS (\n",
        " SELECT\n",
        "     partition_date,\n",
        "     buy_box_token,\n",
        "     department_id,\n",
        "     device_subtype,\n",
        "     order_id,\n",
        "     order_line_id\n",
        " FROM\n",
        "     b2w-bee-analytics.evaluated_sales.sales,\n",
        "     dates\n",
        " WHERE\n",
        "     DATE(partition_date) BETWEEN min_date AND max_date\n",
        "     AND UPPER(brand) IN (SELECT pair FROM brand_name, UNNEST(arr) AS pair)\n",
        "     AND buy_box_token LIKE 'smartbuybox-acom-v2%'\n",
        "     AND delivery_type = 'VENDA'\n",
        "     AND high_value_flag = 'N'\n",
        "     AND payment_status = 'APROVADO'\n",
        "     AND sku_type = 'PRODUTO'\n",
        "     AND department_id NOT IN ('9087')\n",
        ")\n",
        "\n",
        "SELECT\n",
        "    DATE(sort_date) AS data,\n",
        "    ord.brand,\n",
        "    CASE \n",
        "        WHEN buyboxTestAB = 'control-abexperiment20210622' THEN 'Control'\n",
        "        WHEN buyboxTestAB = 'treatment1-abexperiment20210622' THEN 'Treatment 1'\n",
        "        ELSE 'Treatment 2'\n",
        "    END AS experiment,\n",
        "    ord.departmentid AS department_id,\n",
        "    contextregion AS region,\n",
        "    COUNT(DISTINCT token_geral) AS visits,\n",
        "    COUNT(DISTINCT order_id) AS orders                     \n",
        "FROM\n",
        "    sales_ sales RIGHT OUTER JOIN sort ord\n",
        "                               ON sales.buy_box_token = ord.bboxtoken\n",
        "WHERE \n",
        "    buyboxTestAB IN ('control-abexperiment20210622','treatment1-abexperiment20210622','treatment2-abexperiment20210622')\n",
        "GROUP BY 1,2,3,4,5\n",
        "ORDER BY 1 \n",
        "\"\"\"\n",
        "\n",
        "# set you bqstorage_client as argument in the to_dataframe() method.\n",
        "# i've also added the tqdm progress bar here so you get better insight\n",
        "# into how long it's still going to take\n",
        "results = (\n",
        "    bqclient.query(query)\n",
        "    .result()\n",
        "    .to_dataframe(bqstorage_client=bqstorageclient))"
      ],
      "execution_count": 5,
      "outputs": []
    },
    {
      "cell_type": "markdown",
      "metadata": {
        "id": "PYKPRk47ffvd"
      },
      "source": [
        "## **Exploratory Data Analysis in Python Using Pandas**"
      ]
    },
    {
      "cell_type": "code",
      "metadata": {
        "id": "DoAatQcLAN8Q"
      },
      "source": [
        "import pandas as pd"
      ],
      "execution_count": 6,
      "outputs": []
    },
    {
      "cell_type": "markdown",
      "metadata": {
        "id": "FHMjmQleAxhi"
      },
      "source": [
        "### **Data cleaning**"
      ]
    },
    {
      "cell_type": "markdown",
      "metadata": {
        "id": "xMUKBIfEA8c0"
      },
      "source": [
        "#### Data dimension"
      ]
    },
    {
      "cell_type": "code",
      "metadata": {
        "colab": {
          "base_uri": "https://localhost:8080/"
        },
        "id": "0t7ZvX8DBBK9",
        "outputId": "3b4f80ed-4c09-466e-e652-fc73cbada099"
      },
      "source": [
        "results.shape"
      ],
      "execution_count": 45,
      "outputs": [
        {
          "output_type": "execute_result",
          "data": {
            "text/plain": [
              "(618220, 7)"
            ]
          },
          "metadata": {
            "tags": []
          },
          "execution_count": 45
        }
      ]
    },
    {
      "cell_type": "markdown",
      "metadata": {
        "id": "KF2tVznaBX1c"
      },
      "source": [
        "#### Dataframe contents"
      ]
    },
    {
      "cell_type": "code",
      "metadata": {
        "colab": {
          "base_uri": "https://localhost:8080/",
          "height": 404
        },
        "id": "5szxUnwXBXgh",
        "outputId": "42ebcf32-478f-45e9-d805-d90c3fa455e0"
      },
      "source": [
        "results.head(15)"
      ],
      "execution_count": 46,
      "outputs": [
        {
          "output_type": "execute_result",
          "data": {
            "application/vnd.google.colaboratory.module+javascript": "\n      import \"https://ssl.gstatic.com/colaboratory/data_table/a6224c040fa35dcf/data_table.js\";\n\n      window.createDataTable({\n        data: [[{\n            'v': 0,\n            'f': \"0\",\n        },\n\"2021-06-23\",\n\"ACOM\",\n\"Control\",\n{\n            'v': 13,\n            'f': \"13\",\n        },\n\"NORTHEAST_INTERIOR_2908_992908\",\n{\n            'v': 7,\n            'f': \"7\",\n        },\n{\n            'v': 0,\n            'f': \"0\",\n        }],\n [{\n            'v': 1,\n            'f': \"1\",\n        },\n\"2021-06-23\",\n\"ACOM\",\n\"Control\",\n{\n            'v': 36,\n            'f': \"36\",\n        },\n\"SP_CAPITAL_3501_935030\",\n{\n            'v': 4447,\n            'f': \"4447\",\n        },\n{\n            'v': 127,\n            'f': \"127\",\n        }],\n [{\n            'v': 2,\n            'f': \"2\",\n        },\n\"2021-06-23\",\n\"ACOM\",\n\"Treatment 2\",\n{\n            'v': 13,\n            'f': \"13\",\n        },\n\"MG_CAPITAL_3101_931055\",\n{\n            'v': 31,\n            'f': \"31\",\n        },\n{\n            'v': 1,\n            'f': \"1\",\n        }],\n [{\n            'v': 3,\n            'f': \"3\",\n        },\n\"2021-06-23\",\n\"ACOM\",\n\"Treatment 2\",\n{\n            'v': 9072,\n            'f': \"9072\",\n        },\n\"NORTHEAST_CAPITAL_2701_992701\",\n{\n            'v': 113,\n            'f': \"113\",\n        },\n{\n            'v': 0,\n            'f': \"0\",\n        }],\n [{\n            'v': 4,\n            'f': \"4\",\n        },\n\"2021-06-23\",\n\"ACOM\",\n\"Control\",\n{\n            'v': 58,\n            'f': \"58\",\n        },\n\"RJ_CAPITAL_3301_933023\",\n{\n            'v': 153,\n            'f': \"153\",\n        },\n{\n            'v': 6,\n            'f': \"6\",\n        }],\n [{\n            'v': 5,\n            'f': \"5\",\n        },\n\"2021-06-23\",\n\"ACOM\",\n\"Treatment 1\",\n{\n            'v': 9112,\n            'f': \"9112\",\n        },\n\"RJ_CAPITAL_3301_933022\",\n{\n            'v': 1156,\n            'f': \"1156\",\n        },\n{\n            'v': 13,\n            'f': \"13\",\n        }],\n [{\n            'v': 6,\n            'f': \"6\",\n        },\n\"2021-06-23\",\n\"ACOM\",\n\"Control\",\n{\n            'v': 9073,\n            'f': \"9073\",\n        },\n\"NORTHEAST_INTERIOR_2602_992602\",\n{\n            'v': 11,\n            'f': \"11\",\n        },\n{\n            'v': 0,\n            'f': \"0\",\n        }],\n [{\n            'v': 7,\n            'f': \"7\",\n        },\n\"2021-06-23\",\n\"ACOM\",\n\"Control\",\n{\n            'v': 35,\n            'f': \"35\",\n        },\n\"MIDWEST_CAPITAL_5201\",\n{\n            'v': 1,\n            'f': \"1\",\n        },\n{\n            'v': 0,\n            'f': \"0\",\n        }],\n [{\n            'v': 8,\n            'f': \"8\",\n        },\n\"2021-06-23\",\n\"ACOM\",\n\"Treatment 2\",\n{\n            'v': 9068,\n            'f': \"9068\",\n        },\n\"PR_CAPITAL_4101_994101\",\n{\n            'v': 269,\n            'f': \"269\",\n        },\n{\n            'v': 0,\n            'f': \"0\",\n        }],\n [{\n            'v': 9,\n            'f': \"9\",\n        },\n\"2021-06-23\",\n\"ACOM\",\n\"Control\",\n{\n            'v': 9085,\n            'f': \"9085\",\n        },\n\"MIDWEST_INTERIOR_5301_995301\",\n{\n            'v': 3,\n            'f': \"3\",\n        },\n{\n            'v': 0,\n            'f': \"0\",\n        }],\n [{\n            'v': 10,\n            'f': \"10\",\n        },\n\"2021-06-23\",\n\"ACOM\",\n\"Control\",\n{\n            'v': 9085,\n            'f': \"9085\",\n        },\n\"SP_INTERIOR_3510_350039\",\n{\n            'v': 7,\n            'f': \"7\",\n        },\n{\n            'v': 0,\n            'f': \"0\",\n        }],\n [{\n            'v': 11,\n            'f': \"11\",\n        },\n\"2021-06-23\",\n\"ACOM\",\n\"Control\",\n{\n            'v': 9094,\n            'f': \"9094\",\n        },\n\"SP_CAPITAL_3501_935005\",\n{\n            'v': 12,\n            'f': \"12\",\n        },\n{\n            'v': 0,\n            'f': \"0\",\n        }],\n [{\n            'v': 12,\n            'f': \"12\",\n        },\n\"2021-06-23\",\n\"ACOM\",\n\"Treatment 2\",\n{\n            'v': 48,\n            'f': \"48\",\n        },\n\"SP_CAPITAL_3501_935033\",\n{\n            'v': 5,\n            'f': \"5\",\n        },\n{\n            'v': 0,\n            'f': \"0\",\n        }],\n [{\n            'v': 13,\n            'f': \"13\",\n        },\n\"2021-06-23\",\n\"ACOM\",\n\"Treatment 1\",\n{\n            'v': 9082,\n            'f': \"9082\",\n        },\n\"MIDWEST_INTERIOR_5102_995102\",\n{\n            'v': 19,\n            'f': \"19\",\n        },\n{\n            'v': 0,\n            'f': \"0\",\n        }],\n [{\n            'v': 14,\n            'f': \"14\",\n        },\n\"2021-06-23\",\n\"ACOM\",\n\"Control\",\n{\n            'v': 9116,\n            'f': \"9116\",\n        },\n\"RJ_CAPITAL_3301_933026\",\n{\n            'v': 13,\n            'f': \"13\",\n        },\n{\n            'v': 0,\n            'f': \"0\",\n        }]],\n        columns: [[\"number\", \"index\"], [\"string\", \"data\"], [\"string\", \"brand\"], [\"string\", \"experiment\"], [\"number\", \"department_id\"], [\"string\", \"region\"], [\"number\", \"visits\"], [\"number\", \"orders\"]],\n        columnOptions: [{\"width\": \"1px\", \"className\": \"index_column\"}],\n        rowsPerPage: 25,\n        helpUrl: \"https://colab.research.google.com/notebooks/data_table.ipynb\",\n        suppressOutputScrolling: true,\n        minimumWidth: undefined,\n      });\n    ",
            "text/html": [
              "<div>\n",
              "<style scoped>\n",
              "    .dataframe tbody tr th:only-of-type {\n",
              "        vertical-align: middle;\n",
              "    }\n",
              "\n",
              "    .dataframe tbody tr th {\n",
              "        vertical-align: top;\n",
              "    }\n",
              "\n",
              "    .dataframe thead th {\n",
              "        text-align: right;\n",
              "    }\n",
              "</style>\n",
              "<table border=\"1\" class=\"dataframe\">\n",
              "  <thead>\n",
              "    <tr style=\"text-align: right;\">\n",
              "      <th></th>\n",
              "      <th>data</th>\n",
              "      <th>brand</th>\n",
              "      <th>experiment</th>\n",
              "      <th>department_id</th>\n",
              "      <th>region</th>\n",
              "      <th>visits</th>\n",
              "      <th>orders</th>\n",
              "    </tr>\n",
              "  </thead>\n",
              "  <tbody>\n",
              "    <tr>\n",
              "      <th>0</th>\n",
              "      <td>2021-06-23</td>\n",
              "      <td>ACOM</td>\n",
              "      <td>Control</td>\n",
              "      <td>13</td>\n",
              "      <td>NORTHEAST_INTERIOR_2908_992908</td>\n",
              "      <td>7</td>\n",
              "      <td>0</td>\n",
              "    </tr>\n",
              "    <tr>\n",
              "      <th>1</th>\n",
              "      <td>2021-06-23</td>\n",
              "      <td>ACOM</td>\n",
              "      <td>Control</td>\n",
              "      <td>36</td>\n",
              "      <td>SP_CAPITAL_3501_935030</td>\n",
              "      <td>4447</td>\n",
              "      <td>127</td>\n",
              "    </tr>\n",
              "    <tr>\n",
              "      <th>2</th>\n",
              "      <td>2021-06-23</td>\n",
              "      <td>ACOM</td>\n",
              "      <td>Treatment 2</td>\n",
              "      <td>13</td>\n",
              "      <td>MG_CAPITAL_3101_931055</td>\n",
              "      <td>31</td>\n",
              "      <td>1</td>\n",
              "    </tr>\n",
              "    <tr>\n",
              "      <th>3</th>\n",
              "      <td>2021-06-23</td>\n",
              "      <td>ACOM</td>\n",
              "      <td>Treatment 2</td>\n",
              "      <td>9072</td>\n",
              "      <td>NORTHEAST_CAPITAL_2701_992701</td>\n",
              "      <td>113</td>\n",
              "      <td>0</td>\n",
              "    </tr>\n",
              "    <tr>\n",
              "      <th>4</th>\n",
              "      <td>2021-06-23</td>\n",
              "      <td>ACOM</td>\n",
              "      <td>Control</td>\n",
              "      <td>58</td>\n",
              "      <td>RJ_CAPITAL_3301_933023</td>\n",
              "      <td>153</td>\n",
              "      <td>6</td>\n",
              "    </tr>\n",
              "    <tr>\n",
              "      <th>5</th>\n",
              "      <td>2021-06-23</td>\n",
              "      <td>ACOM</td>\n",
              "      <td>Treatment 1</td>\n",
              "      <td>9112</td>\n",
              "      <td>RJ_CAPITAL_3301_933022</td>\n",
              "      <td>1156</td>\n",
              "      <td>13</td>\n",
              "    </tr>\n",
              "    <tr>\n",
              "      <th>6</th>\n",
              "      <td>2021-06-23</td>\n",
              "      <td>ACOM</td>\n",
              "      <td>Control</td>\n",
              "      <td>9073</td>\n",
              "      <td>NORTHEAST_INTERIOR_2602_992602</td>\n",
              "      <td>11</td>\n",
              "      <td>0</td>\n",
              "    </tr>\n",
              "    <tr>\n",
              "      <th>7</th>\n",
              "      <td>2021-06-23</td>\n",
              "      <td>ACOM</td>\n",
              "      <td>Control</td>\n",
              "      <td>35</td>\n",
              "      <td>MIDWEST_CAPITAL_5201</td>\n",
              "      <td>1</td>\n",
              "      <td>0</td>\n",
              "    </tr>\n",
              "    <tr>\n",
              "      <th>8</th>\n",
              "      <td>2021-06-23</td>\n",
              "      <td>ACOM</td>\n",
              "      <td>Treatment 2</td>\n",
              "      <td>9068</td>\n",
              "      <td>PR_CAPITAL_4101_994101</td>\n",
              "      <td>269</td>\n",
              "      <td>0</td>\n",
              "    </tr>\n",
              "    <tr>\n",
              "      <th>9</th>\n",
              "      <td>2021-06-23</td>\n",
              "      <td>ACOM</td>\n",
              "      <td>Control</td>\n",
              "      <td>9085</td>\n",
              "      <td>MIDWEST_INTERIOR_5301_995301</td>\n",
              "      <td>3</td>\n",
              "      <td>0</td>\n",
              "    </tr>\n",
              "    <tr>\n",
              "      <th>10</th>\n",
              "      <td>2021-06-23</td>\n",
              "      <td>ACOM</td>\n",
              "      <td>Control</td>\n",
              "      <td>9085</td>\n",
              "      <td>SP_INTERIOR_3510_350039</td>\n",
              "      <td>7</td>\n",
              "      <td>0</td>\n",
              "    </tr>\n",
              "    <tr>\n",
              "      <th>11</th>\n",
              "      <td>2021-06-23</td>\n",
              "      <td>ACOM</td>\n",
              "      <td>Control</td>\n",
              "      <td>9094</td>\n",
              "      <td>SP_CAPITAL_3501_935005</td>\n",
              "      <td>12</td>\n",
              "      <td>0</td>\n",
              "    </tr>\n",
              "    <tr>\n",
              "      <th>12</th>\n",
              "      <td>2021-06-23</td>\n",
              "      <td>ACOM</td>\n",
              "      <td>Treatment 2</td>\n",
              "      <td>48</td>\n",
              "      <td>SP_CAPITAL_3501_935033</td>\n",
              "      <td>5</td>\n",
              "      <td>0</td>\n",
              "    </tr>\n",
              "    <tr>\n",
              "      <th>13</th>\n",
              "      <td>2021-06-23</td>\n",
              "      <td>ACOM</td>\n",
              "      <td>Treatment 1</td>\n",
              "      <td>9082</td>\n",
              "      <td>MIDWEST_INTERIOR_5102_995102</td>\n",
              "      <td>19</td>\n",
              "      <td>0</td>\n",
              "    </tr>\n",
              "    <tr>\n",
              "      <th>14</th>\n",
              "      <td>2021-06-23</td>\n",
              "      <td>ACOM</td>\n",
              "      <td>Control</td>\n",
              "      <td>9116</td>\n",
              "      <td>RJ_CAPITAL_3301_933026</td>\n",
              "      <td>13</td>\n",
              "      <td>0</td>\n",
              "    </tr>\n",
              "  </tbody>\n",
              "</table>\n",
              "</div>"
            ],
            "text/plain": [
              "          data brand  ... visits  orders\n",
              "0   2021-06-23  ACOM  ...      7       0\n",
              "1   2021-06-23  ACOM  ...   4447     127\n",
              "2   2021-06-23  ACOM  ...     31       1\n",
              "3   2021-06-23  ACOM  ...    113       0\n",
              "4   2021-06-23  ACOM  ...    153       6\n",
              "5   2021-06-23  ACOM  ...   1156      13\n",
              "6   2021-06-23  ACOM  ...     11       0\n",
              "7   2021-06-23  ACOM  ...      1       0\n",
              "8   2021-06-23  ACOM  ...    269       0\n",
              "9   2021-06-23  ACOM  ...      3       0\n",
              "10  2021-06-23  ACOM  ...      7       0\n",
              "11  2021-06-23  ACOM  ...     12       0\n",
              "12  2021-06-23  ACOM  ...      5       0\n",
              "13  2021-06-23  ACOM  ...     19       0\n",
              "14  2021-06-23  ACOM  ...     13       0\n",
              "\n",
              "[15 rows x 7 columns]"
            ]
          },
          "metadata": {
            "tags": []
          },
          "execution_count": 46
        }
      ]
    },
    {
      "cell_type": "markdown",
      "metadata": {
        "id": "QD4z1rUbBtHD"
      },
      "source": [
        "#### Check for missing values"
      ]
    },
    {
      "cell_type": "code",
      "metadata": {
        "id": "qyGkewzhByYl"
      },
      "source": [
        "results.isnull().sum()"
      ],
      "execution_count": null,
      "outputs": []
    },
    {
      "cell_type": "markdown",
      "metadata": {
        "id": "BX6CLdKgDupZ"
      },
      "source": [
        "#### Replace missing values with \"NAO IDENTIFICADA\""
      ]
    },
    {
      "cell_type": "code",
      "metadata": {
        "id": "AzwS0u9cD2s2"
      },
      "source": [
        "# Replace null values for 'NAO IDENTIFICADA' when variable region is NULL \n",
        "df = results.fillna('NAO IDENTIFICADA')"
      ],
      "execution_count": 10,
      "outputs": []
    },
    {
      "cell_type": "code",
      "metadata": {
        "id": "u4vHdrnjEC_h"
      },
      "source": [
        "# Check new results \n",
        "df.isnull().sum()"
      ],
      "execution_count": null,
      "outputs": []
    },
    {
      "cell_type": "code",
      "metadata": {
        "id": "I4kS7C31NW2K"
      },
      "source": [
        "df = df.drop(['brand'], axis=1)\n",
        "df"
      ],
      "execution_count": null,
      "outputs": []
    },
    {
      "cell_type": "markdown",
      "metadata": {
        "id": "7HVOfBPZPefW"
      },
      "source": [
        "#### Write to CSV file"
      ]
    },
    {
      "cell_type": "code",
      "metadata": {
        "id": "PpJ3rxKRPjZn"
      },
      "source": [
        "# Write dataframe in a csv file\n",
        "df.to_csv('aa_results.csv', index=False)"
      ],
      "execution_count": 13,
      "outputs": []
    },
    {
      "cell_type": "code",
      "metadata": {
        "id": "m6tqyb4JPvb-"
      },
      "source": [
        "# Check that file is write\n",
        "! ls"
      ],
      "execution_count": null,
      "outputs": []
    },
    {
      "cell_type": "code",
      "metadata": {
        "id": "hFR2u0YpPzg7"
      },
      "source": [
        "# Check the context file in bash\n",
        "! cat aa_results.csv"
      ],
      "execution_count": null,
      "outputs": []
    },
    {
      "cell_type": "markdown",
      "metadata": {
        "id": "yRE1EB-Ej2DL"
      },
      "source": [
        "### **Questions**"
      ]
    },
    {
      "cell_type": "markdown",
      "metadata": {
        "id": "p_nuqu9YkBSU"
      },
      "source": [
        "#### **Conditional selection**\n",
        "In performing exploratory data analysis, it is important to be able to select subsets of data to perform analysis or comparisons."
      ]
    },
    {
      "cell_type": "markdown",
      "metadata": {
        "id": "fYzF-A9olHKc"
      },
      "source": [
        "**1. Which department the most visits per experiment?** Here, we will return the entire row."
      ]
    },
    {
      "cell_type": "code",
      "metadata": {
        "colab": {
          "base_uri": "https://localhost:8080/",
          "height": 110
        },
        "id": "P4e7CtPQlzRf",
        "outputId": "2ccdc4c7-9036-4025-e270-210744b687c2"
      },
      "source": [
        "experiment_results[experiment_results['visits'] == experiment_results['visits'].max()]"
      ],
      "execution_count": 50,
      "outputs": [
        {
          "output_type": "execute_result",
          "data": {
            "application/vnd.google.colaboratory.module+javascript": "\n      import \"https://ssl.gstatic.com/colaboratory/data_table/a6224c040fa35dcf/data_table.js\";\n\n      window.createDataTable({\n        data: [[{\n            'v': 22823,\n            'f': \"22823\",\n        },\n\"2021-06-23\",\n\"Treatment 2\",\n{\n            'v': 36,\n            'f': \"36\",\n        },\n\"NAO IDENTIFICADA\",\n{\n            'v': 810796,\n            'f': \"810796\",\n        },\n{\n            'v': 63,\n            'f': \"63\",\n        }]],\n        columns: [[\"number\", \"index\"], [\"string\", \"data\"], [\"string\", \"experiment\"], [\"number\", \"department_id\"], [\"string\", \"region\"], [\"number\", \"visits\"], [\"number\", \"orders\"]],\n        columnOptions: [{\"width\": \"1px\", \"className\": \"index_column\"}],\n        rowsPerPage: 25,\n        helpUrl: \"https://colab.research.google.com/notebooks/data_table.ipynb\",\n        suppressOutputScrolling: true,\n        minimumWidth: undefined,\n      });\n    ",
            "text/html": [
              "<div>\n",
              "<style scoped>\n",
              "    .dataframe tbody tr th:only-of-type {\n",
              "        vertical-align: middle;\n",
              "    }\n",
              "\n",
              "    .dataframe tbody tr th {\n",
              "        vertical-align: top;\n",
              "    }\n",
              "\n",
              "    .dataframe thead th {\n",
              "        text-align: right;\n",
              "    }\n",
              "</style>\n",
              "<table border=\"1\" class=\"dataframe\">\n",
              "  <thead>\n",
              "    <tr style=\"text-align: right;\">\n",
              "      <th></th>\n",
              "      <th>data</th>\n",
              "      <th>experiment</th>\n",
              "      <th>department_id</th>\n",
              "      <th>region</th>\n",
              "      <th>visits</th>\n",
              "      <th>orders</th>\n",
              "    </tr>\n",
              "  </thead>\n",
              "  <tbody>\n",
              "    <tr>\n",
              "      <th>22823</th>\n",
              "      <td>2021-06-23</td>\n",
              "      <td>Treatment 2</td>\n",
              "      <td>36</td>\n",
              "      <td>NAO IDENTIFICADA</td>\n",
              "      <td>810796</td>\n",
              "      <td>63</td>\n",
              "    </tr>\n",
              "  </tbody>\n",
              "</table>\n",
              "</div>"
            ],
            "text/plain": [
              "             data   experiment  department_id            region  visits  orders\n",
              "22823  2021-06-23  Treatment 2             36  NAO IDENTIFICADA  810796      63"
            ]
          },
          "metadata": {
            "tags": []
          },
          "execution_count": 50
        }
      ]
    },
    {
      "cell_type": "markdown",
      "metadata": {
        "id": "ux3jncd8Q_Nj"
      },
      "source": [
        "### **Exploratory Data Analysis**"
      ]
    },
    {
      "cell_type": "markdown",
      "metadata": {
        "id": "fbCms7djRE_O"
      },
      "source": [
        "#### Read data"
      ]
    },
    {
      "cell_type": "code",
      "metadata": {
        "id": "Oxl_sm-wRH_U"
      },
      "source": [
        "experiment_results = pd.read_csv('aa_results.csv')"
      ],
      "execution_count": 33,
      "outputs": []
    },
    {
      "cell_type": "markdown",
      "metadata": {
        "id": "afV-4IbSRWqO"
      },
      "source": [
        "#### Displays the dataframe"
      ]
    },
    {
      "cell_type": "code",
      "metadata": {
        "id": "_TDMYBgeRah0"
      },
      "source": [
        "# Shows the first five lines and the last five\n",
        "experiment_results"
      ],
      "execution_count": null,
      "outputs": []
    },
    {
      "cell_type": "code",
      "metadata": {
        "id": "nH7r-wn3ZO9h"
      },
      "source": [
        "# Show entire dataframe (if we want to see more ...)\n",
        "pd.set_option('display.max_rows', experiment_results.shape[0]+1)"
      ],
      "execution_count": 35,
      "outputs": []
    },
    {
      "cell_type": "markdown",
      "metadata": {
        "id": "CEL-HUOtanvW"
      },
      "source": [
        "#### Overview of data types of each columns in the dataframe"
      ]
    },
    {
      "cell_type": "code",
      "metadata": {
        "colab": {
          "base_uri": "https://localhost:8080/"
        },
        "id": "Qi98Ten1auqv",
        "outputId": "5b760fe3-6e98-422a-b247-53e66ba4215c"
      },
      "source": [
        "experiment_results.dtypes"
      ],
      "execution_count": 41,
      "outputs": [
        {
          "output_type": "execute_result",
          "data": {
            "text/plain": [
              "data             object\n",
              "experiment       object\n",
              "department_id     int64\n",
              "region           object\n",
              "visits            int64\n",
              "orders            int64\n",
              "dtype: object"
            ]
          },
          "metadata": {
            "tags": []
          },
          "execution_count": 41
        }
      ]
    },
    {
      "cell_type": "markdown",
      "metadata": {
        "id": "mw_7lJPoa9aA"
      },
      "source": [
        "#### Show specific data types in dataframe"
      ]
    },
    {
      "cell_type": "code",
      "metadata": {
        "id": "ghjMyYkdbC-k"
      },
      "source": [
        "# Show only numbers type\n",
        "df.select_dtypes(include=['number'])"
      ],
      "execution_count": null,
      "outputs": []
    },
    {
      "cell_type": "code",
      "metadata": {
        "id": "F90jYO1DbYuj"
      },
      "source": [
        "# Show only objects type\n",
        "df.select_dtypes(include=['object'])"
      ],
      "execution_count": null,
      "outputs": []
    },
    {
      "cell_type": "code",
      "metadata": {
        "id": "vw4p27qZJ9OK"
      },
      "source": [
        "df.sort_values('visits', ascending = False).head(15)[['data','experiment','region','visits','orders']]"
      ],
      "execution_count": null,
      "outputs": []
    },
    {
      "cell_type": "markdown",
      "metadata": {
        "id": "PVotDuWWVRtB"
      },
      "source": [
        "## **Exploratory Data Analysis in R Language Using dplyr**"
      ]
    },
    {
      "cell_type": "markdown",
      "metadata": {
        "id": "W9eywjV7f2eA"
      },
      "source": [
        "### **Install packages**\n",
        "Here, we install and load the necessary packages used in this notebook."
      ]
    },
    {
      "cell_type": "code",
      "metadata": {
        "id": "VxMxmtv_gOw5"
      },
      "source": [
        "%%R\n",
        "# Install packages\n",
        "install.packages(\"tidyverse\")     # Packages for data science (dplyr, ggplot2, tidyr, tibble)"
      ],
      "execution_count": null,
      "outputs": []
    },
    {
      "cell_type": "code",
      "metadata": {
        "id": "yePeiMY1gbPP"
      },
      "source": [
        "%%R\n",
        "# Library packages\n",
        "library(tidyverse)"
      ],
      "execution_count": null,
      "outputs": []
    },
    {
      "cell_type": "markdown",
      "metadata": {
        "id": "mdBkAhi-Vori"
      },
      "source": [
        "### **Get the Data**"
      ]
    },
    {
      "cell_type": "code",
      "metadata": {
        "id": "5HJjDIh7gLEJ"
      },
      "source": [
        "# To enable the magics below and use R within Python\n",
        "%load_ext rpy2.ipython"
      ],
      "execution_count": 16,
      "outputs": []
    },
    {
      "cell_type": "code",
      "metadata": {
        "id": "azwYpDZzUQzs"
      },
      "source": [
        "%%R\n",
        "# Read a csv.file and save results\n",
        "abtest <- read_csv('aa_results.csv')"
      ],
      "execution_count": null,
      "outputs": []
    },
    {
      "cell_type": "code",
      "metadata": {
        "id": "X4fDltGcUsNQ"
      },
      "source": [
        "%%R\n",
        "# Check dataframe´s class\n",
        "class(abtest)"
      ],
      "execution_count": null,
      "outputs": []
    },
    {
      "cell_type": "code",
      "metadata": {
        "id": "lblwEJzcUgvE"
      },
      "source": [
        "%%R \n",
        "# Show summary of statistics\n",
        "summary(abtest)"
      ],
      "execution_count": null,
      "outputs": []
    }
  ]
}