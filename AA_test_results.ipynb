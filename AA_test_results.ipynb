{
  "nbformat": 4,
  "nbformat_minor": 0,
  "metadata": {
    "colab": {
      "name": "AA_test_results.ipynb",
      "provenance": [],
      "collapsed_sections": [],
      "include_colab_link": true
    },
    "kernelspec": {
      "name": "python3",
      "display_name": "Python 3"
    },
    "language_info": {
      "name": "python"
    }
  },
  "cells": [
    {
      "cell_type": "markdown",
      "metadata": {
        "id": "view-in-github",
        "colab_type": "text"
      },
      "source": [
        "<a href=\"https://colab.research.google.com/github/RaniereRamos/Consultoria/blob/master/AA_test_results.ipynb\" target=\"_parent\"><img src=\"https://colab.research.google.com/assets/colab-badge.svg\" alt=\"Open In Colab\"/></a>"
      ]
    },
    {
      "cell_type": "markdown",
      "metadata": {
        "id": "Ig0qx6WlGJ5N"
      },
      "source": [
        "<img alt=\"B2W logo\" height=\"50px\" src=\"https://ri.b2w.digital/img/2013/logo.png\" align=\"left\" hspace=\"15px\" vspace=\"0px\"> \n",
        "\n",
        "<h1><font color = \"#0097a7\"><strong>Analysis of A/B Test Results of the New Buy Box Model<strong></font></h1>"
      ]
    },
    {
      "cell_type": "markdown",
      "metadata": {
        "id": "ILvixFz-F4A_"
      },
      "source": [
        "# What is an A/B test?\n",
        "\n",
        "**A/B testing** is a framework for you to <font color = \"#0097a7\">**test different ideas**</font> for how to improve upon an existing design, often a website. With A/B testing you're able to take a set of new ideas, <font color = \"#0097a7\">**test them with a new experiment**</font>, <font color = \"#0097a7\">**statistically analyze the results**</font> to confidently say which idea is better, update your website or app to <font color = \"#0097a7\">**use the winning idea**</font>, and then continue the cycle over again. "
      ]
    },
    {
      "cell_type": "markdown",
      "metadata": {
        "id": "9sd-v0exROZ3"
      },
      "source": [
        "Let's walk through a simplified set of steps with an experiment. For do that, let's say we run a shopping website."
      ]
    },
    {
      "cell_type": "markdown",
      "metadata": {
        "id": "qV2HIevkSBTz"
      },
      "source": [
        "We want to know if a **different recommendation algorithm** would result in more visitors clicking the **'BUY\"** button.\n",
        "\n",
        "\n",
        "*   This is also referred to as **\"conversion rate\"**. If someone clicks we say they \"converted\".\n",
        "*   The **conversion rate** is generally the number of people who did an action (for example, clicked a button)<font color = \"#0097a7\">**(orders)**</font> divided by the number of people who went to the page <font color = \"#0097a7\">**(visits)**</font>."
      ]
    },
    {
      "cell_type": "markdown",
      "metadata": {
        "id": "b2uISiqoVKHe"
      },
      "source": [
        "**Notes:** In our case, to test this we need three conditions: \n",
        "\n",
        "*   One, a **control** (our current recommendation algorithm).\n",
        "*   Two, a **treatment 1** (a new recommendation algorithm).\n",
        "*   Three, a **treatment 2** (other new recommendation algorithm)."
      ]
    },
    {
      "cell_type": "markdown",
      "metadata": {
        "id": "NizmDX-RVZXA"
      },
      "source": [
        ">***Our hypothesis is that a new recommendation algorithm will make people more likely to buy what they needed.***"
      ]
    },
    {
      "cell_type": "markdown",
      "metadata": {
        "id": "-iC-fdhCWgt5"
      },
      "source": [
        "## Variables\n",
        "*   **Question:** Will changing the recommendation algorithm result in more visitors clicking the **\"BUY\"** button?\n",
        "*   **Hypothesis:** Using a new recommendation algorithm result in more **\"BUY\"** clicks.\n",
        "*   **Dependent variable:** Clicked **\"BUY\"** button or not.\n",
        "*   **Independent variable:** Buy Box's new recommendation algorithm."
      ]
    },
    {
      "cell_type": "markdown",
      "metadata": {
        "id": "pxxtyR3MhYK1"
      },
      "source": [
        "# Get the data"
      ]
    },
    {
      "cell_type": "markdown",
      "metadata": {
        "id": "yXcGlR3Ot4m0"
      },
      "source": [
        "### Import libraries\n",
        "Here, we import the necessary libraries used in this notebook."
      ]
    },
    {
      "cell_type": "code",
      "metadata": {
        "id": "korIlQalt9yf"
      },
      "source": [
        "# Install libraries for a progress bar\n",
        "!pip install --upgrade 'google-cloud-bigquery[bqstorage,pandas]'"
      ],
      "execution_count": null,
      "outputs": []
    },
    {
      "cell_type": "markdown",
      "metadata": {
        "id": "8goNCbror4JN"
      },
      "source": [
        "### Provide your credentials to the runtime"
      ]
    },
    {
      "cell_type": "markdown",
      "metadata": {
        "id": "tYjGEssaiC1G"
      },
      "source": [
        "#### Authentications\n",
        "**Notes:** You need to user identification and project to be accessed in Big Query."
      ]
    },
    {
      "cell_type": "code",
      "metadata": {
        "id": "c_FCTkybiLBp"
      },
      "source": [
        "# User authentication\n",
        "from google.colab import auth\n",
        "auth.authenticate_user()\n",
        "print('Authenticated')"
      ],
      "execution_count": null,
      "outputs": []
    },
    {
      "cell_type": "code",
      "metadata": {
        "id": "fvdWq-pT8lzp"
      },
      "source": [
        "from oauth2client.client import GoogleCredentials\n",
        "credentials = GoogleCredentials.get_application_default()\n",
        "import getpass"
      ],
      "execution_count": 2,
      "outputs": []
    },
    {
      "cell_type": "code",
      "metadata": {
        "id": "tHOZR4HL8m6k"
      },
      "source": [
        "import google.auth\n",
        "from google.cloud import bigquery\n",
        "from google.cloud import bigquery_storage\n",
        "\n",
        "# Explicitly create a credentials object. This allows you to use the same\n",
        "# credentials for both the BigQuery and BigQuery Storage clients, avoiding\n",
        "# unnecessary API calls to fetch duplicate authentication tokens.\n",
        "credentials, your_project_id = google.auth.default(\n",
        "    scopes=[\"https://www.googleapis.com/auth/cloud-platform\"]\n",
        ")\n",
        "\n",
        "# Make clients.\n",
        "projeto='utility-canto-251714' # project's name in Big Query\n",
        "\n",
        "bqclient = bigquery.Client(credentials=credentials, project=projeto,)\n",
        "bqstorageclient = bigquery_storage.BigQueryReadClient(credentials=credentials)"
      ],
      "execution_count": 3,
      "outputs": []
    },
    {
      "cell_type": "markdown",
      "metadata": {
        "id": "-S_KoP2dsjKZ"
      },
      "source": [
        "#### Enable data table display\n",
        "Colab includes the ```google.colab.data_table``` package that can be used to display large pandas dataframes as an interactive data table. It can be enabled with:"
      ]
    },
    {
      "cell_type": "code",
      "metadata": {
        "id": "WfiMlmaDsdXn"
      },
      "source": [
        "%load_ext google.colab.data_table"
      ],
      "execution_count": 4,
      "outputs": []
    },
    {
      "cell_type": "markdown",
      "metadata": {
        "id": "KR6h9b-iioS9"
      },
      "source": [
        "## Import dataset\n",
        "Load the data and make it available in the object."
      ]
    },
    {
      "cell_type": "markdown",
      "metadata": {
        "id": "c-u7iRvZm1hO"
      },
      "source": [
        "### Use BigQuery via magics\n",
        "**Notes:** The ```google.cloud.bigquery``` library also includes a magic command which runs a query and either displays the result or saves it to a variable as a ```Dataframe```."
      ]
    },
    {
      "cell_type": "code",
      "metadata": {
        "id": "_Tp-PciGtMnD"
      },
      "source": [
        "##%%bigquery --project utility-canto-251714 df (I didn't get save query's results using alias. So I used another method)\n",
        "\n",
        "query = f\"\"\"\n",
        "WITH brand_name AS (\n",
        " SELECT\n",
        "     ARRAY(SELECT * FROM UNNEST([\"ACOM\"])) AS arr\n",
        "),\n",
        "dates AS (\n",
        " SELECT\n",
        "     DATE(\"2021-06-23\") AS min_date,\n",
        "     DATE(\"2021-07-04\") AS max_date\n",
        "),\n",
        "sort AS (\n",
        " SELECT\n",
        "     sk_timestamp AS sort_date,\n",
        "     UPPER(brand) AS brand,\n",
        "     bboxtoken,\n",
        "     DATE(sk_timestamp) \n",
        "           || '-' || \n",
        "         EXTRACT(hour FROM sk_timestamp)\n",
        "           || '-' || \n",
        "         EXTRACT(minute FROM sk_timestamp)\n",
        "           || '-' || \n",
        "         EXTRACT(second FROM sk_timestamp) \n",
        "           || '-' || \n",
        "         UPPER(brand) \n",
        "           || '-' || \n",
        "         CASE WHEN contextregion IS NULL THEN 'NAO IDENTIFICADO' ELSE contextregion END\n",
        "           || '-' ||\n",
        "         CASE WHEN context_opn IS NULL THEN 'NAO IDENTIFICADO' ELSE context_opn END\n",
        "           || '-' || \n",
        "         productid \n",
        "           || '-' || \n",
        "         isfinance\n",
        "           || '-' || \n",
        "         isprime\n",
        "           || '-' || \n",
        "         CASE WHEN salesSolution IS NULL THEN 'NAO IDENTIFICADO' ELSE salesSolution END AS token_geral,\n",
        "     buyboxTestAB,\n",
        "     contextregion,\n",
        "     departmentid,\n",
        "  FROM\n",
        "     utility-canto-251714.raw_buybox.ordenacao_2021,\n",
        "     dates\n",
        " WHERE\n",
        "     DATE(sk_timestamp) BETWEEN min_date AND max_date\n",
        "     AND UPPER(brand) IN (SELECT pair FROM brand_name, UNNEST(arr) AS pair)\n",
        "),\n",
        "\n",
        "sales_ AS (\n",
        " SELECT\n",
        "     partition_date,\n",
        "     buy_box_token,\n",
        "     department_id,\n",
        "     device_subtype,\n",
        "     order_id,\n",
        "     order_line_id\n",
        " FROM\n",
        "     b2w-bee-analytics.evaluated_sales.sales,\n",
        "     dates\n",
        " WHERE\n",
        "     DATE(partition_date) BETWEEN min_date AND max_date\n",
        "     AND UPPER(brand) IN (SELECT pair FROM brand_name, UNNEST(arr) AS pair)\n",
        "     AND buy_box_token LIKE 'smartbuybox-acom-v2%'\n",
        "     AND delivery_type = 'VENDA'\n",
        "     AND high_value_flag = 'N'\n",
        "     AND payment_status = 'APROVADO'\n",
        "     AND sku_type = 'PRODUTO'\n",
        "     AND department_id NOT IN ('9087')\n",
        ")\n",
        "\n",
        "SELECT\n",
        "    DATE(sort_date) AS data,\n",
        "    ord.brand,\n",
        "    CASE \n",
        "        WHEN buyboxTestAB = 'control-abexperiment20210622' THEN 'Control'\n",
        "        WHEN buyboxTestAB = 'treatment1-abexperiment20210622' THEN 'Treatment 1'\n",
        "        ELSE 'Treatment 2'\n",
        "    END AS experiment,\n",
        "    ord.departmentid AS department_id,\n",
        "    contextregion AS region,\n",
        "    COUNT(DISTINCT token_geral) AS visits,\n",
        "    COUNT(DISTINCT order_id) AS orders                     \n",
        "FROM\n",
        "    sales_ sales RIGHT OUTER JOIN sort ord\n",
        "                               ON sales.buy_box_token = ord.bboxtoken\n",
        "WHERE \n",
        "    buyboxTestAB IN ('control-abexperiment20210622','treatment1-abexperiment20210622','treatment2-abexperiment20210622')\n",
        "GROUP BY 1,2,3,4,5\n",
        "ORDER BY 1 \n",
        "\"\"\"\n",
        "\n",
        "# set you bqstorage_client as argument in the to_dataframe() method.\n",
        "# i've also added the tqdm progress bar here so you get better insight\n",
        "# into how long it's still going to take\n",
        "results = (\n",
        "    bqclient.query(query)\n",
        "    .result()\n",
        "    .to_dataframe(bqstorage_client=bqstorageclient))"
      ],
      "execution_count": 5,
      "outputs": []
    },
    {
      "cell_type": "markdown",
      "metadata": {
        "id": "PYKPRk47ffvd"
      },
      "source": [
        "## **Exploratory Data Analysis in Python Using Pandas**"
      ]
    },
    {
      "cell_type": "code",
      "metadata": {
        "id": "DoAatQcLAN8Q"
      },
      "source": [
        "import pandas as pd"
      ],
      "execution_count": 6,
      "outputs": []
    },
    {
      "cell_type": "markdown",
      "metadata": {
        "id": "FHMjmQleAxhi"
      },
      "source": [
        "### **Data cleaning**"
      ]
    },
    {
      "cell_type": "markdown",
      "metadata": {
        "id": "xMUKBIfEA8c0"
      },
      "source": [
        "#### Data dimension"
      ]
    },
    {
      "cell_type": "code",
      "metadata": {
        "id": "0t7ZvX8DBBK9"
      },
      "source": [
        "results.shape"
      ],
      "execution_count": null,
      "outputs": []
    },
    {
      "cell_type": "markdown",
      "metadata": {
        "id": "KF2tVznaBX1c"
      },
      "source": [
        "#### Dataframe contents"
      ]
    },
    {
      "cell_type": "code",
      "metadata": {
        "id": "5szxUnwXBXgh"
      },
      "source": [
        "results.head(15)"
      ],
      "execution_count": null,
      "outputs": []
    },
    {
      "cell_type": "markdown",
      "metadata": {
        "id": "QD4z1rUbBtHD"
      },
      "source": [
        "#### Check for missing values"
      ]
    },
    {
      "cell_type": "code",
      "metadata": {
        "id": "qyGkewzhByYl"
      },
      "source": [
        "results.isnull().sum()"
      ],
      "execution_count": null,
      "outputs": []
    },
    {
      "cell_type": "markdown",
      "metadata": {
        "id": "BX6CLdKgDupZ"
      },
      "source": [
        "#### Replace missing values with \"NAO IDENTIFICADA\""
      ]
    },
    {
      "cell_type": "code",
      "metadata": {
        "id": "AzwS0u9cD2s2"
      },
      "source": [
        "# Replace null values for 'NAO IDENTIFICADA' when variable region is NULL \n",
        "df = results.fillna('NAO IDENTIFICADA')"
      ],
      "execution_count": 10,
      "outputs": []
    },
    {
      "cell_type": "code",
      "metadata": {
        "id": "u4vHdrnjEC_h"
      },
      "source": [
        "# Check new results \n",
        "df.isnull().sum()"
      ],
      "execution_count": null,
      "outputs": []
    },
    {
      "cell_type": "code",
      "metadata": {
        "id": "I4kS7C31NW2K"
      },
      "source": [
        "df = df.drop(['brand'], axis=1)\n",
        "df"
      ],
      "execution_count": null,
      "outputs": []
    },
    {
      "cell_type": "markdown",
      "metadata": {
        "id": "7HVOfBPZPefW"
      },
      "source": [
        "#### Write to CSV file"
      ]
    },
    {
      "cell_type": "code",
      "metadata": {
        "id": "PpJ3rxKRPjZn"
      },
      "source": [
        "# Write dataframe in a csv file\n",
        "df.to_csv('aa_results.csv', index=False)"
      ],
      "execution_count": 13,
      "outputs": []
    },
    {
      "cell_type": "code",
      "metadata": {
        "id": "m6tqyb4JPvb-"
      },
      "source": [
        "# Check that file is write\n",
        "! ls"
      ],
      "execution_count": null,
      "outputs": []
    },
    {
      "cell_type": "code",
      "metadata": {
        "id": "hFR2u0YpPzg7"
      },
      "source": [
        "# Check the context file in bash\n",
        "! cat aa_results.csv"
      ],
      "execution_count": null,
      "outputs": []
    },
    {
      "cell_type": "markdown",
      "metadata": {
        "id": "ux3jncd8Q_Nj"
      },
      "source": [
        "### **Exploratory Data Analysis**"
      ]
    },
    {
      "cell_type": "markdown",
      "metadata": {
        "id": "fbCms7djRE_O"
      },
      "source": [
        "#### Read data"
      ]
    },
    {
      "cell_type": "code",
      "metadata": {
        "id": "Oxl_sm-wRH_U"
      },
      "source": [
        "experiment_results = pd.read_csv('aa_results.csv')"
      ],
      "execution_count": 33,
      "outputs": []
    },
    {
      "cell_type": "markdown",
      "metadata": {
        "id": "afV-4IbSRWqO"
      },
      "source": [
        "#### Displays the dataframe"
      ]
    },
    {
      "cell_type": "code",
      "metadata": {
        "id": "_TDMYBgeRah0"
      },
      "source": [
        "# Shows the first five lines and the last five\n",
        "experiment_results"
      ],
      "execution_count": null,
      "outputs": []
    },
    {
      "cell_type": "code",
      "metadata": {
        "id": "nH7r-wn3ZO9h"
      },
      "source": [
        "# Show entire dataframe (if we want to see more ...)\n",
        "pd.set_option('display.max_rows', experiment_results.shape[0]+1)"
      ],
      "execution_count": 35,
      "outputs": []
    },
    {
      "cell_type": "markdown",
      "metadata": {
        "id": "CEL-HUOtanvW"
      },
      "source": [
        "#### Overview of data types of each columns in the dataframe"
      ]
    },
    {
      "cell_type": "code",
      "metadata": {
        "colab": {
          "base_uri": "https://localhost:8080/"
        },
        "id": "Qi98Ten1auqv",
        "outputId": "5b760fe3-6e98-422a-b247-53e66ba4215c"
      },
      "source": [
        "experiment_results.dtypes"
      ],
      "execution_count": 41,
      "outputs": [
        {
          "output_type": "execute_result",
          "data": {
            "text/plain": [
              "data             object\n",
              "experiment       object\n",
              "department_id     int64\n",
              "region           object\n",
              "visits            int64\n",
              "orders            int64\n",
              "dtype: object"
            ]
          },
          "metadata": {
            "tags": []
          },
          "execution_count": 41
        }
      ]
    },
    {
      "cell_type": "markdown",
      "metadata": {
        "id": "mw_7lJPoa9aA"
      },
      "source": [
        "#### Show specific data types in dataframe"
      ]
    },
    {
      "cell_type": "code",
      "metadata": {
        "id": "ghjMyYkdbC-k"
      },
      "source": [
        "# Show only numbers type\n",
        "df.select_dtypes(include=['number'])"
      ],
      "execution_count": null,
      "outputs": []
    },
    {
      "cell_type": "code",
      "metadata": {
        "id": "F90jYO1DbYuj"
      },
      "source": [
        "# Show only objects type\n",
        "df.select_dtypes(include=['object'])"
      ],
      "execution_count": null,
      "outputs": []
    },
    {
      "cell_type": "code",
      "metadata": {
        "id": "vw4p27qZJ9OK"
      },
      "source": [
        "df.sort_values('visits', ascending = False).head(15)[['data','experiment','region','visits','orders']]"
      ],
      "execution_count": null,
      "outputs": []
    },
    {
      "cell_type": "markdown",
      "metadata": {
        "id": "PVotDuWWVRtB"
      },
      "source": [
        "## **Exploratory Data Analysis in R Language Using dplyr**"
      ]
    },
    {
      "cell_type": "markdown",
      "metadata": {
        "id": "W9eywjV7f2eA"
      },
      "source": [
        "### **Install packages**\n",
        "Here, we install and load the necessary packages used in this notebook."
      ]
    },
    {
      "cell_type": "code",
      "metadata": {
        "id": "VxMxmtv_gOw5"
      },
      "source": [
        "%%R\n",
        "# Install packages\n",
        "install.packages(\"tidyverse\")     # Packages for data science (dplyr, ggplot2, tidyr, tibble)"
      ],
      "execution_count": null,
      "outputs": []
    },
    {
      "cell_type": "code",
      "metadata": {
        "id": "yePeiMY1gbPP"
      },
      "source": [
        "%%R\n",
        "# Library packages\n",
        "library(tidyverse)"
      ],
      "execution_count": null,
      "outputs": []
    },
    {
      "cell_type": "markdown",
      "metadata": {
        "id": "mdBkAhi-Vori"
      },
      "source": [
        "### **Get the Data**"
      ]
    },
    {
      "cell_type": "code",
      "metadata": {
        "id": "5HJjDIh7gLEJ"
      },
      "source": [
        "# To enable the magics below and use R within Python\n",
        "%load_ext rpy2.ipython"
      ],
      "execution_count": 16,
      "outputs": []
    },
    {
      "cell_type": "code",
      "metadata": {
        "id": "azwYpDZzUQzs"
      },
      "source": [
        "%%R\n",
        "# Read a csv.file and save results\n",
        "abtest <- read_csv('aa_results.csv')"
      ],
      "execution_count": null,
      "outputs": []
    },
    {
      "cell_type": "code",
      "metadata": {
        "id": "X4fDltGcUsNQ"
      },
      "source": [
        "%%R\n",
        "# Check dataframe´s class\n",
        "class(abtest)"
      ],
      "execution_count": null,
      "outputs": []
    },
    {
      "cell_type": "code",
      "metadata": {
        "id": "lblwEJzcUgvE"
      },
      "source": [
        "%%R \n",
        "# Show summary of statistics\n",
        "summary(abtest)"
      ],
      "execution_count": null,
      "outputs": []
    }
  ]
}